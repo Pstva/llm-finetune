{
 "cells": [
  {
   "cell_type": "code",
   "execution_count": 1,
   "metadata": {},
   "outputs": [],
   "source": [
    "import json\n",
    "\n",
    "\n",
    "path = \"../data/preprocessed/glaive_function.json\"\n",
    "with open(path, \"r\") as f:\n",
    "    data = json.load(f)"
   ]
  },
  {
   "cell_type": "markdown",
   "metadata": {},
   "source": [
    "## Glaive dataset"
   ]
  },
  {
   "cell_type": "markdown",
   "metadata": {},
   "source": [
    "Пример без function calling"
   ]
  },
  {
   "cell_type": "code",
   "execution_count": 2,
   "metadata": {},
   "outputs": [
    {
     "data": {
      "text/plain": [
       "[{'role': 'system',\n",
       "  'content': 'You are a helpful assistant with access to the following functions. Use them if required -\\n{\\n\"name\": \"get_exchange_rate\",\\n\"description\": \"Get the exchange rate between two currencies\",\\n\"parameters\": {\\n\"type\": \"object\",\\n\"properties\": {\\n\"base_currency\": {\\n\"type\": \"string\",\\n\"description\": \"The currency to convert from\"\\n},\\n\"target_currency\": {\\n\"type\": \"string\",\\n\"description\": \"The currency to convert to\"\\n}\\n},\\n\"required\": [\\n\"base_currency\",\\n\"target_currency\"\\n]\\n}\\n}'},\n",
       " {'role': 'user',\n",
       "  'content': 'Can you book a flight for me from New York to London?'},\n",
       " {'role': 'assistant',\n",
       "  'content': \"I'm sorry, but I don't have the capability to book flights. My current function allows me to get the exchange rate between two currencies. If you need help with that, feel free to ask!\"}]"
      ]
     },
     "execution_count": 2,
     "metadata": {},
     "output_type": "execute_result"
    }
   ],
   "source": [
    "data[0]"
   ]
  },
  {
   "cell_type": "markdown",
   "metadata": {},
   "source": [
    "Пример с function calling"
   ]
  },
  {
   "cell_type": "code",
   "execution_count": 3,
   "metadata": {},
   "outputs": [
    {
     "data": {
      "text/plain": [
       "[{'role': 'system',\n",
       "  'content': 'You are a helpful assistant with access to the following functions. Use them if required -\\n{\\n\"name\": \"generate_password\",\\n\"description\": \"Generate a random password\",\\n\"parameters\": {\\n\"type\": \"object\",\\n\"properties\": {\\n\"length\": {\\n\"type\": \"integer\",\\n\"description\": \"The length of the password\"\\n},\\n\"include_symbols\": {\\n\"type\": \"boolean\",\\n\"description\": \"Whether to include symbols in the password\"\\n}\\n},\\n\"required\": [\\n\"length\"\\n]\\n}\\n}\\n\\n{\\n\"name\": \"create_task\",\\n\"description\": \"Create a new task in a task management system\",\\n\"parameters\": {\\n\"type\": \"object\",\\n\"properties\": {\\n\"title\": {\\n\"type\": \"string\",\\n\"description\": \"The title of the task\"\\n},\\n\"due_date\": {\\n\"type\": \"string\",\\n\"format\": \"date\",\\n\"description\": \"The due date of the task\"\\n},\\n\"priority\": {\\n\"type\": \"string\",\\n\"enum\": [\\n\"low\",\\n\"medium\",\\n\"high\"\\n],\\n\"description\": \"The priority of the task\"\\n}\\n},\\n\"required\": [\\n\"title\",\\n\"due_date\",\\n\"priority\"\\n]\\n}\\n}'},\n",
       " {'role': 'user',\n",
       "  'content': 'I need a new password. Can you generate one for me?'},\n",
       " {'role': 'assistant',\n",
       "  'content': 'Of course. How long would you like your password to be? And would you like it to include symbols?'},\n",
       " {'role': 'user',\n",
       "  'content': 'I would like it to be 12 characters long and yes, please include symbols.'},\n",
       " {'role': 'assistant',\n",
       "  'content': '<functioncall> {\"name\": \"generate_password\", \"arguments\": \\'{\"length\": 12, \"include_symbols\": true}\\'}'},\n",
       " {'role': 'function', 'content': '{\"password\": \"4&7j#9@1Q6*\"}'},\n",
       " {'role': 'assistant',\n",
       "  'content': 'Here is your new password: 4&7j#9@1Q6*. Please make sure to save it in a secure location.'}]"
      ]
     },
     "execution_count": 3,
     "metadata": {},
     "output_type": "execute_result"
    }
   ],
   "source": [
    "data[2]"
   ]
  },
  {
   "cell_type": "markdown",
   "metadata": {},
   "source": [
    "Всего примеров с и без function calling"
   ]
  },
  {
   "cell_type": "code",
   "execution_count": 4,
   "metadata": {},
   "outputs": [
    {
     "name": "stdout",
     "output_type": "stream",
     "text": [
      "Всего примеров:  112790\n",
      "С Function Calling:  63212\n",
      "Без Function Calling:  49578\n"
     ]
    }
   ],
   "source": [
    "def contains_fc(msg):\n",
    "    for m in msg:\n",
    "        if m[\"role\"] == \"function\":\n",
    "            return True\n",
    "    return False\n",
    "\n",
    "\n",
    "print(\"Всего примеров: \", len(data))\n",
    "\n",
    "with_fc_num = len([x for x in data if contains_fc(x)])\n",
    "print(\"С Function Calling: \", with_fc_num)\n",
    "print(\"Без Function Calling: \", len(data) - with_fc_num)"
   ]
  },
  {
   "cell_type": "markdown",
   "metadata": {},
   "source": [
    "Распределение кол-ва сообщений от User-a к модели"
   ]
  },
  {
   "cell_type": "code",
   "execution_count": 5,
   "metadata": {},
   "outputs": [
    {
     "name": "stdout",
     "output_type": "stream",
     "text": [
      "Среднее кол-во запросов от юзера в чате: 2.3606614061530276\n"
     ]
    },
    {
     "data": {
      "text/plain": [
       "(array([2.9689e+04, 4.6581e+04, 1.8865e+04, 4.3500e+03, 1.0758e+04,\n",
       "        2.2630e+03, 2.4800e+02, 2.4000e+01, 6.0000e+00, 6.0000e+00]),\n",
       " array([ 1.,  2.,  3.,  4.,  5.,  6.,  7.,  8.,  9., 10., 11.]),\n",
       " <BarContainer object of 10 artists>)"
      ]
     },
     "execution_count": 5,
     "metadata": {},
     "output_type": "execute_result"
    },
    {
     "data": {
      "image/png": "[encoded data removed]",
      "text/plain": [
       "<Figure size 640x480 with 1 Axes>"
      ]
     },
     "metadata": {},
     "output_type": "display_data"
    }
   ],
   "source": [
    "import matplotlib.pyplot as plt\n",
    "\n",
    "user_msg = []\n",
    "for message_list in data:\n",
    "    c = 0\n",
    "    for msg in message_list:\n",
    "        if msg[\"role\"] == \"user\":\n",
    "            c += 1\n",
    "    user_msg.append(c)\n",
    "\n",
    "print(\"Среднее кол-во запросов от юзера в чате:\", sum(user_msg) / len(user_msg))\n",
    "plt.hist(user_msg)"
   ]
  },
  {
   "cell_type": "markdown",
   "metadata": {},
   "source": [
    "## My Sample of Glaive Dataset"
   ]
  },
  {
   "cell_type": "code",
   "execution_count": 6,
   "metadata": {},
   "outputs": [],
   "source": [
    "path = \"../data/preprocessed/glaive_function_sampled.json\"\n",
    "\n",
    "with open(path, \"r\") as f:\n",
    "    data = json.load(f)"
   ]
  },
  {
   "cell_type": "code",
   "execution_count": 7,
   "metadata": {},
   "outputs": [
    {
     "data": {
      "text/plain": [
       "[{'role': 'system',\n",
       "  'content': 'You are a helpful assistant, with no access to external functions.'},\n",
       " {'role': 'user',\n",
       "  'content': 'Can you create a new magical creature struct in Go with the following attributes: name (string), element (string), abilities (slice of strings), and description (string)? Additionally, can you implement a function that randomly generates a new instance of this magical creature with unique abilities and a detailed description using the fmt package?'},\n",
       " {'role': 'assistant',\n",
       "  'content': 'Sure, here\\'s an example of how you can create a new `MagicalCreature` struct in Go with the attributes you described:\\n```go\\npackage main\\nimport (\\n\"fmt\"\\n\"math/rand\"\\n\"time\"\\n)\\ntype MagicalCreature struct {\\nName string\\nElement string\\nAbilities []string\\nDescription string\\n}\\nfunc main() {\\nrand.Seed(time.Now().UnixNano())\\n// Example usage\\ncreature := GenerateRandomCreature()\\nfmt.Printf(\"%s is a magical creature that controls %s. Its abilities include %v. %sn\",\\ncreature.Name, creature.Element, creature.Abilities, creature.Description)\\n}\\nfunc GenerateRandomCreature() *MagicalCreature {\\nelements := []string{\"fire\", \"water\", \"earth\", \"air\"}\\nabilities := []string{\"teleportation\", \"shape-shifting\", \"invisibility\", \"mind-reading\", \"fire-breathing\", \"water-manipulation\", \"earthquake-generation\", \"flight\"}\\ncreature := &MagicalCreature{}\\n// Generate random name\\ncreature.Name = fmt.Sprintf(\"Creature-%d\", rand.Intn(100))\\n// Generate random element\\ncreature.Element = elements[rand.Intn(len(elements))]\\n// Generate 3 unique random abilities\\nfor len(creature.Abilities) < 3 {\\nability := abilities[rand.Intn(len(abilities))]\\nif !contains(creature.Abilities, ability) {\\ncreature.Abilities = append(creature.Abilities, ability)\\n}\\n}\\n// Generate random description\\ncreature.Description = fmt.Sprintf(\"This %s creature is known for its %s abilities.\", creature.Element, creature.Abilities)\\nreturn creature\\n}\\nfunc contains(s []string, e string) bool {\\nfor _, a := range s {\\nif a == e {\\nreturn true\\n}\\n}\\nreturn false\\n}\\n```\\nIn this example, the `GenerateRandomCreature` function generates a new instance of `MagicalCreature` with a random name, element, abilities, and description. The `contains` function is a helper function that checks if a slice contains a specific string. The `fmt` package is used to print out the details of the generated creature.'},\n",
       " {'role': 'user',\n",
       "  'content': 'That\\'s great! Can you explain how the \"rand.Seed(time.Now().UnixNano())\" line works in your code?'},\n",
       " {'role': 'assistant',\n",
       "  'content': \"Sure! The `rand.Seed(time.Now().UnixNano())` line is used to initialize the random number generator with a new seed value based on the current time, so that each time the program is run, the sequence of random numbers generated will be different. If we don't initialize the seed value, the sequence of random numbers generated will be the same every time the program is run, which is not what we want for generating unique creatures.\"},\n",
       " {'role': 'user',\n",
       "  'content': 'I see. How would you modify the `GenerateRandomCreature` function to ensure that no two abilities are the same in a single creature instance?'},\n",
       " {'role': 'assistant',\n",
       "  'content': 'To modify the `GenerateRandomCreature` function to ensure that no two abilities are the same in a single creature instance, we can simply use a `map` instead of a slice to keep track of the abilities that have already been generated, and continue generating abilities until we have three unique ones:\\n\\n```go\\nfunc GenerateRandomCreature() *MagicalCreature {\\nelements := []string{\"fire\", \"water\", \"earth\", \"air\"}\\nabilities := []string{\"teleportation\", \"shape-shifting\", \"invisibility\", \"mind-reading\", \"fire-breathing\", \"water-manipulation\", \"earthquake-generation\", \"flight\"}\\ncreature := &MagicalCreature{}\\n// Generate random name\\ncreature.Name = fmt.Sprintf(\"Creature-%d\", rand.Intn(100))\\n// Generate random element\\ncreature.Element = elements[rand.Intn(len(elements))]\\n// Generate 3 unique random abilities\\nabilityMap := make(map[string]bool)\\nfor len(abilityMap) < 3 {\\nability := abilities[rand.Intn(len(abilities))]\\nabilityMap[ability] = true\\n}\\ncreature.Abilities = make([]string, 0, len(abilityMap))\\nfor ability := range abilityMap {\\ncreature.Abilities = append(creature.Abilities, ability)\\n}\\n// Generate random description\\ncreature.Description = fmt.Sprintf(\"This %s creature is known for its %s abilities.\", creature.Element, creature.Abilities)\\nreturn creature\\n}\\n```\\n\\nIn this modified version of `GenerateRandomCreature`, we use a `map` called `abilityMap` to keep track of the abilities that have already been generated. We generate abilities until the `abilityMap` has three unique ones. Finally, we convert the `abilityMap` back into a slice and assign it to `creature.Abilities`.'}]"
      ]
     },
     "execution_count": 7,
     "metadata": {},
     "output_type": "execute_result"
    }
   ],
   "source": [
    "data[0]"
   ]
  },
  {
   "cell_type": "code",
   "execution_count": 8,
   "metadata": {},
   "outputs": [
    {
     "name": "stdout",
     "output_type": "stream",
     "text": [
      "Всего примеров:  1000\n",
      "С Function Calling:  700\n",
      "Без Function Calling:  300\n"
     ]
    }
   ],
   "source": [
    "def contains_fc(msg):\n",
    "    for m in msg:\n",
    "        if m[\"role\"] == \"function\":\n",
    "            return True\n",
    "    return False\n",
    "\n",
    "\n",
    "print(\"Всего примеров: \", len(data))\n",
    "\n",
    "with_fc_num = len([x for x in data if contains_fc(x)])\n",
    "print(\"С Function Calling: \", with_fc_num)\n",
    "print(\"Без Function Calling: \", len(data) - with_fc_num)"
   ]
  },
  {
   "cell_type": "code",
   "execution_count": 9,
   "metadata": {},
   "outputs": [
    {
     "name": "stdout",
     "output_type": "stream",
     "text": [
      "Среднее кол-во запросов от юзера в чате: 2.292\n"
     ]
    },
    {
     "data": {
      "text/plain": [
       "(array([237., 460.,   0., 191.,   0.,  17.,  77.,   0.,  17.,   1.]),\n",
       " array([1. , 1.6, 2.2, 2.8, 3.4, 4. , 4.6, 5.2, 5.8, 6.4, 7. ]),\n",
       " <BarContainer object of 10 artists>)"
      ]
     },
     "execution_count": 9,
     "metadata": {},
     "output_type": "execute_result"
    },
    {
     "data": {
      "image/png": "[encoded data removed]",
      "text/plain": [
       "<Figure size 640x480 with 1 Axes>"
      ]
     },
     "metadata": {},
     "output_type": "display_data"
    }
   ],
   "source": [
    "import matplotlib.pyplot as plt\n",
    "\n",
    "user_msg = []\n",
    "for message_list in data:\n",
    "    c = 0\n",
    "    for msg in message_list:\n",
    "        if msg[\"role\"] == \"user\":\n",
    "            c += 1\n",
    "    user_msg.append(c)\n",
    "\n",
    "print(\"Среднее кол-во запросов от юзера в чате:\", sum(user_msg) / len(user_msg))\n",
    "plt.hist(user_msg)"
   ]
  },
  {
   "cell_type": "markdown",
   "metadata": {},
   "source": [
    "## My Dataset"
   ]
  },
  {
   "cell_type": "code",
   "execution_count": 10,
   "metadata": {},
   "outputs": [],
   "source": [
    "import pandas as pd\n",
    "\n",
    "results_df = pd.read_csv(\"../data/test/final/result_df.csv\")"
   ]
  },
  {
   "cell_type": "code",
   "execution_count": 11,
   "metadata": {},
   "outputs": [
    {
     "data": {
      "text/plain": [
       "is_fc\n",
       "True     118\n",
       "False    113\n",
       "Name: count, dtype: int64"
      ]
     },
     "execution_count": 11,
     "metadata": {},
     "output_type": "execute_result"
    }
   ],
   "source": [
    "results_df[\"is_fc\"].value_counts(dropna=False)"
   ]
  },
  {
   "cell_type": "code",
   "execution_count": 12,
   "metadata": {},
   "outputs": [
    {
     "data": {
      "text/plain": [
       "city_from\n",
       "Moscow           50\n",
       "Yekaterinburg    46\n",
       "Novosibirsk      22\n",
       "Name: count, dtype: int64"
      ]
     },
     "execution_count": 12,
     "metadata": {},
     "output_type": "execute_result"
    }
   ],
   "source": [
    "results_df[results_df[\"is_fc\"] == True][\"city_from\"].value_counts(dropna=False)"
   ]
  },
  {
   "cell_type": "code",
   "execution_count": 13,
   "metadata": {},
   "outputs": [
    {
     "data": {
      "text/plain": [
       "city_to\n",
       "Saint-Petersburg    58\n",
       "Novosibirsk         22\n",
       "NaN                 20\n",
       "Moscow              18\n",
       "Name: count, dtype: int64"
      ]
     },
     "execution_count": 13,
     "metadata": {},
     "output_type": "execute_result"
    }
   ],
   "source": [
    "results_df[results_df[\"is_fc\"] == True][\"city_to\"].value_counts(dropna=False)"
   ]
  },
  {
   "cell_type": "code",
   "execution_count": 14,
   "metadata": {},
   "outputs": [
    {
     "data": {
      "text/plain": [
       "date\n",
       "NaN           22\n",
       "09.20.2022    20\n",
       "11.17.2022    20\n",
       "04.12.2020    20\n",
       "11.28.2021    18\n",
       "09.15.2021    18\n",
       "Name: count, dtype: int64"
      ]
     },
     "execution_count": 14,
     "metadata": {},
     "output_type": "execute_result"
    }
   ],
   "source": [
    "results_df[results_df[\"is_fc\"] == True][\"date\"].value_counts(dropna=False)"
   ]
  },
  {
   "cell_type": "code",
   "execution_count": 15,
   "metadata": {},
   "outputs": [
    {
     "data": {
      "text/plain": [
       "date_back\n",
       "NaN           80\n",
       "12.15.2022     8\n",
       "01.23.2023     8\n",
       "03.01.2023     8\n",
       "03.06.2021     8\n",
       "11.05.2022     6\n",
       "Name: count, dtype: int64"
      ]
     },
     "execution_count": 15,
     "metadata": {},
     "output_type": "execute_result"
    }
   ],
   "source": [
    "results_df[results_df[\"is_fc\"] == True][\"date_back\"].value_counts(dropna=False)"
   ]
  },
  {
   "cell_type": "code",
   "execution_count": 16,
   "metadata": {},
   "outputs": [
    {
     "data": {
      "text/plain": [
       "need_luggage\n",
       "NaN      80\n",
       "False    20\n",
       "True     18\n",
       "Name: count, dtype: int64"
      ]
     },
     "execution_count": 16,
     "metadata": {},
     "output_type": "execute_result"
    }
   ],
   "source": [
    "results_df[results_df[\"is_fc\"] == True][\"need_luggage\"].value_counts(dropna=False)"
   ]
  },
  {
   "cell_type": "code",
   "execution_count": null,
   "metadata": {},
   "outputs": [],
   "source": []
  }
 ],
 "metadata": {
  "kernelspec": {
   "display_name": "llm_finetuning-2kOCaLmK-py3.11",
   "language": "python",
   "name": "python3"
  },
  "language_info": {
   "codemirror_mode": {
    "name": "ipython",
    "version": 3
   },
   "file_extension": ".py",
   "mimetype": "text/x-python",
   "name": "python",
   "nbconvert_exporter": "python",
   "pygments_lexer": "ipython3",
   "version": "3.11.4"
  }
 },
 "nbformat": 4,
 "nbformat_minor": 2
}
