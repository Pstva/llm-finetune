{
 "cells": [
  {
   "cell_type": "markdown",
   "metadata": {},
   "source": [
    "# Анализ результатов"
   ]
  },
  {
   "cell_type": "code",
   "execution_count": 1,
   "metadata": {},
   "outputs": [],
   "source": [
    "import pandas as pd\n",
    "\n",
    "results_df = pd.read_csv(\"../data/test/final/result_df.csv\")"
   ]
  },
  {
   "cell_type": "code",
   "execution_count": 2,
   "metadata": {},
   "outputs": [
    {
     "data": {
      "text/html": [
       "<div>\n",
       "<style scoped>\n",
       "    .dataframe tbody tr th:only-of-type {\n",
       "        vertical-align: middle;\n",
       "    }\n",
       "\n",
       "    .dataframe tbody tr th {\n",
       "        vertical-align: top;\n",
       "    }\n",
       "\n",
       "    .dataframe thead th {\n",
       "        text-align: right;\n",
       "    }\n",
       "</style>\n",
       "<table border=\"1\" class=\"dataframe\">\n",
       "  <thead>\n",
       "    <tr style=\"text-align: right;\">\n",
       "      <th></th>\n",
       "      <th>Unnamed: 0</th>\n",
       "      <th>question</th>\n",
       "      <th>is_fc</th>\n",
       "      <th>city_from</th>\n",
       "      <th>city_to</th>\n",
       "      <th>date</th>\n",
       "      <th>date_back</th>\n",
       "      <th>need_luggage</th>\n",
       "      <th>answer</th>\n",
       "      <th>is_fc_answer</th>\n",
       "      <th>parsed_fc</th>\n",
       "      <th>function_name</th>\n",
       "      <th>parsed_args</th>\n",
       "      <th>parsed_city_from</th>\n",
       "      <th>parsed_city_to</th>\n",
       "      <th>parsed_date</th>\n",
       "      <th>parsed_date_back</th>\n",
       "      <th>parsed_need_luggage</th>\n",
       "      <th>all_parsed_arguments</th>\n",
       "    </tr>\n",
       "  </thead>\n",
       "  <tbody>\n",
       "    <tr>\n",
       "      <th>226</th>\n",
       "      <td>226</td>\n",
       "      <td>How do pilots navigate through turbulent weat...</td>\n",
       "      <td>False</td>\n",
       "      <td>NaN</td>\n",
       "      <td>NaN</td>\n",
       "      <td>NaN</td>\n",
       "      <td>NaN</td>\n",
       "      <td>NaN</td>\n",
       "      <td>PILOTS NAVIGATE THROUGH TURBULENT WEATHER CON...</td>\n",
       "      <td>False</td>\n",
       "      <td>False</td>\n",
       "      <td>NaN</td>\n",
       "      <td>False</td>\n",
       "      <td>NaN</td>\n",
       "      <td>NaN</td>\n",
       "      <td>NaN</td>\n",
       "      <td>NaN</td>\n",
       "      <td>NaN</td>\n",
       "      <td>NaN</td>\n",
       "    </tr>\n",
       "    <tr>\n",
       "      <th>227</th>\n",
       "      <td>227</td>\n",
       "      <td>How have advancements in technology impacted ...</td>\n",
       "      <td>False</td>\n",
       "      <td>NaN</td>\n",
       "      <td>NaN</td>\n",
       "      <td>NaN</td>\n",
       "      <td>NaN</td>\n",
       "      <td>NaN</td>\n",
       "      <td>Advancements in technological developments on...</td>\n",
       "      <td>False</td>\n",
       "      <td>False</td>\n",
       "      <td>NaN</td>\n",
       "      <td>False</td>\n",
       "      <td>NaN</td>\n",
       "      <td>NaN</td>\n",
       "      <td>NaN</td>\n",
       "      <td>NaN</td>\n",
       "      <td>NaN</td>\n",
       "      <td>NaN</td>\n",
       "    </tr>\n",
       "    <tr>\n",
       "      <th>228</th>\n",
       "      <td>228</td>\n",
       "      <td>What is the average altitude at which commerci...</td>\n",
       "      <td>False</td>\n",
       "      <td>NaN</td>\n",
       "      <td>NaN</td>\n",
       "      <td>NaN</td>\n",
       "      <td>NaN</td>\n",
       "      <td>NaN</td>\n",
       "      <td>I'm sorry, but I can only provide information ...</td>\n",
       "      <td>False</td>\n",
       "      <td>False</td>\n",
       "      <td>NaN</td>\n",
       "      <td>False</td>\n",
       "      <td>NaN</td>\n",
       "      <td>NaN</td>\n",
       "      <td>NaN</td>\n",
       "      <td>NaN</td>\n",
       "      <td>NaN</td>\n",
       "      <td>NaN</td>\n",
       "    </tr>\n",
       "    <tr>\n",
       "      <th>229</th>\n",
       "      <td>229</td>\n",
       "      <td>How do pilots navigate through turbulence dur...</td>\n",
       "      <td>False</td>\n",
       "      <td>NaN</td>\n",
       "      <td>NaN</td>\n",
       "      <td>NaN</td>\n",
       "      <td>NaN</td>\n",
       "      <td>NaN</td>\n",
       "      <td>As an AI, I don't have access to external dat...</td>\n",
       "      <td>False</td>\n",
       "      <td>False</td>\n",
       "      <td>NaN</td>\n",
       "      <td>False</td>\n",
       "      <td>NaN</td>\n",
       "      <td>NaN</td>\n",
       "      <td>NaN</td>\n",
       "      <td>NaN</td>\n",
       "      <td>NaN</td>\n",
       "      <td>NaN</td>\n",
       "    </tr>\n",
       "    <tr>\n",
       "      <th>230</th>\n",
       "      <td>230</td>\n",
       "      <td>What is the role of pilots in ensuring safe fl...</td>\n",
       "      <td>False</td>\n",
       "      <td>NaN</td>\n",
       "      <td>NaN</td>\n",
       "      <td>NaN</td>\n",
       "      <td>NaN</td>\n",
       "      <td>NaN</td>\n",
       "      <td>Piloting, or flying as it appears to be common...</td>\n",
       "      <td>False</td>\n",
       "      <td>False</td>\n",
       "      <td>NaN</td>\n",
       "      <td>False</td>\n",
       "      <td>NaN</td>\n",
       "      <td>NaN</td>\n",
       "      <td>NaN</td>\n",
       "      <td>NaN</td>\n",
       "      <td>NaN</td>\n",
       "      <td>NaN</td>\n",
       "    </tr>\n",
       "  </tbody>\n",
       "</table>\n",
       "</div>"
      ],
      "text/plain": [
       "     Unnamed: 0                                           question  is_fc  \\\n",
       "226         226   How do pilots navigate through turbulent weat...  False   \n",
       "227         227   How have advancements in technology impacted ...  False   \n",
       "228         228  What is the average altitude at which commerci...  False   \n",
       "229         229   How do pilots navigate through turbulence dur...  False   \n",
       "230         230  What is the role of pilots in ensuring safe fl...  False   \n",
       "\n",
       "    city_from city_to date date_back need_luggage  \\\n",
       "226       NaN     NaN  NaN       NaN          NaN   \n",
       "227       NaN     NaN  NaN       NaN          NaN   \n",
       "228       NaN     NaN  NaN       NaN          NaN   \n",
       "229       NaN     NaN  NaN       NaN          NaN   \n",
       "230       NaN     NaN  NaN       NaN          NaN   \n",
       "\n",
       "                                                answer  is_fc_answer  \\\n",
       "226   PILOTS NAVIGATE THROUGH TURBULENT WEATHER CON...         False   \n",
       "227   Advancements in technological developments on...         False   \n",
       "228  I'm sorry, but I can only provide information ...         False   \n",
       "229   As an AI, I don't have access to external dat...         False   \n",
       "230  Piloting, or flying as it appears to be common...         False   \n",
       "\n",
       "     parsed_fc function_name  parsed_args parsed_city_from parsed_city_to  \\\n",
       "226      False           NaN        False              NaN            NaN   \n",
       "227      False           NaN        False              NaN            NaN   \n",
       "228      False           NaN        False              NaN            NaN   \n",
       "229      False           NaN        False              NaN            NaN   \n",
       "230      False           NaN        False              NaN            NaN   \n",
       "\n",
       "    parsed_date parsed_date_back parsed_need_luggage all_parsed_arguments  \n",
       "226         NaN              NaN                 NaN                  NaN  \n",
       "227         NaN              NaN                 NaN                  NaN  \n",
       "228         NaN              NaN                 NaN                  NaN  \n",
       "229         NaN              NaN                 NaN                  NaN  \n",
       "230         NaN              NaN                 NaN                  NaN  "
      ]
     },
     "execution_count": 2,
     "metadata": {},
     "output_type": "execute_result"
    }
   ],
   "source": [
    "results_df.tail()"
   ]
  },
  {
   "cell_type": "code",
   "execution_count": 3,
   "metadata": {},
   "outputs": [
    {
     "data": {
      "text/html": [
       "<div>\n",
       "<style scoped>\n",
       "    .dataframe tbody tr th:only-of-type {\n",
       "        vertical-align: middle;\n",
       "    }\n",
       "\n",
       "    .dataframe tbody tr th {\n",
       "        vertical-align: top;\n",
       "    }\n",
       "\n",
       "    .dataframe thead th {\n",
       "        text-align: right;\n",
       "    }\n",
       "</style>\n",
       "<table border=\"1\" class=\"dataframe\">\n",
       "  <thead>\n",
       "    <tr style=\"text-align: right;\">\n",
       "      <th></th>\n",
       "      <th>Unnamed: 0</th>\n",
       "      <th>question</th>\n",
       "      <th>is_fc</th>\n",
       "      <th>city_from</th>\n",
       "      <th>city_to</th>\n",
       "      <th>date</th>\n",
       "      <th>date_back</th>\n",
       "      <th>need_luggage</th>\n",
       "      <th>answer</th>\n",
       "      <th>is_fc_answer</th>\n",
       "      <th>parsed_fc</th>\n",
       "      <th>function_name</th>\n",
       "      <th>parsed_args</th>\n",
       "      <th>parsed_city_from</th>\n",
       "      <th>parsed_city_to</th>\n",
       "      <th>parsed_date</th>\n",
       "      <th>parsed_date_back</th>\n",
       "      <th>parsed_need_luggage</th>\n",
       "      <th>all_parsed_arguments</th>\n",
       "    </tr>\n",
       "  </thead>\n",
       "  <tbody>\n",
       "    <tr>\n",
       "      <th>0</th>\n",
       "      <td>0</td>\n",
       "      <td>I am writing to request the purchase of a roun...</td>\n",
       "      <td>True</td>\n",
       "      <td>Moscow</td>\n",
       "      <td>Novosibirsk</td>\n",
       "      <td>09.20.2022</td>\n",
       "      <td>12.15.2022</td>\n",
       "      <td>True</td>\n",
       "      <td>{\"name\": \"get_flight_info\", \"description\": \"Ge...</td>\n",
       "      <td>True</td>\n",
       "      <td>True</td>\n",
       "      <td>get_flight_info</td>\n",
       "      <td>False</td>\n",
       "      <td>NaN</td>\n",
       "      <td>NaN</td>\n",
       "      <td>NaN</td>\n",
       "      <td>NaN</td>\n",
       "      <td>NaN</td>\n",
       "      <td>NaN</td>\n",
       "    </tr>\n",
       "    <tr>\n",
       "      <th>1</th>\n",
       "      <td>1</td>\n",
       "      <td>I would like to purchase a round-trip airfare ...</td>\n",
       "      <td>True</td>\n",
       "      <td>Moscow</td>\n",
       "      <td>Novosibirsk</td>\n",
       "      <td>09.20.2022</td>\n",
       "      <td>12.15.2022</td>\n",
       "      <td>True</td>\n",
       "      <td>{\"name\": \"get_flight_info\", \"arguments\": '{\"_f...</td>\n",
       "      <td>True</td>\n",
       "      <td>True</td>\n",
       "      <td>get_flight_info</td>\n",
       "      <td>True</td>\n",
       "      <td>NaN</td>\n",
       "      <td>NaN</td>\n",
       "      <td>{'departure': 20, 'arrival': 31}</td>\n",
       "      <td>NaN</td>\n",
       "      <td>NaN</td>\n",
       "      <td>['_from', 'to', 'date']</td>\n",
       "    </tr>\n",
       "    <tr>\n",
       "      <th>2</th>\n",
       "      <td>2</td>\n",
       "      <td>I am writing to request the purchase of a roun...</td>\n",
       "      <td>True</td>\n",
       "      <td>Moscow</td>\n",
       "      <td>Novosibirsk</td>\n",
       "      <td>09.20.2022</td>\n",
       "      <td>12.15.2022</td>\n",
       "      <td>NaN</td>\n",
       "      <td>I'm sorry if my previous response caused any c...</td>\n",
       "      <td>False</td>\n",
       "      <td>False</td>\n",
       "      <td>NaN</td>\n",
       "      <td>False</td>\n",
       "      <td>NaN</td>\n",
       "      <td>NaN</td>\n",
       "      <td>NaN</td>\n",
       "      <td>NaN</td>\n",
       "      <td>NaN</td>\n",
       "      <td>NaN</td>\n",
       "    </tr>\n",
       "    <tr>\n",
       "      <th>3</th>\n",
       "      <td>3</td>\n",
       "      <td>I would like to purchase a round-trip air tick...</td>\n",
       "      <td>True</td>\n",
       "      <td>Moscow</td>\n",
       "      <td>Novosibirsk</td>\n",
       "      <td>09.20.2022</td>\n",
       "      <td>12.15.2022</td>\n",
       "      <td>NaN</td>\n",
       "      <td>{\"name\": \"get_flight_info\", \"arguments\": '{\\n\"...</td>\n",
       "      <td>True</td>\n",
       "      <td>True</td>\n",
       "      <td>get_flight_info</td>\n",
       "      <td>True</td>\n",
       "      <td>Moscow</td>\n",
       "      <td>Novosibirsk</td>\n",
       "      <td>20-Sep-20</td>\n",
       "      <td>NaN</td>\n",
       "      <td>NaN</td>\n",
       "      <td>['city_from', 'city_to', 'date']</td>\n",
       "    </tr>\n",
       "    <tr>\n",
       "      <th>4</th>\n",
       "      <td>4</td>\n",
       "      <td>I would like to purchase a round trip flight t...</td>\n",
       "      <td>True</td>\n",
       "      <td>Moscow</td>\n",
       "      <td>Novosibirsk</td>\n",
       "      <td>09.20.2022</td>\n",
       "      <td>NaN</td>\n",
       "      <td>True</td>\n",
       "      <td>{\"name\": \"get_flight_info\", \"arguments\": '{\"ci...</td>\n",
       "      <td>True</td>\n",
       "      <td>True</td>\n",
       "      <td>get_flight_info</td>\n",
       "      <td>True</td>\n",
       "      <td>Moscow</td>\n",
       "      <td>Novosibirsk</td>\n",
       "      <td>09-15-2022</td>\n",
       "      <td>NaN</td>\n",
       "      <td>NaN</td>\n",
       "      <td>['city_from', 'city_to', 'date']</td>\n",
       "    </tr>\n",
       "  </tbody>\n",
       "</table>\n",
       "</div>"
      ],
      "text/plain": [
       "   Unnamed: 0                                           question  is_fc  \\\n",
       "0           0  I am writing to request the purchase of a roun...   True   \n",
       "1           1  I would like to purchase a round-trip airfare ...   True   \n",
       "2           2  I am writing to request the purchase of a roun...   True   \n",
       "3           3  I would like to purchase a round-trip air tick...   True   \n",
       "4           4  I would like to purchase a round trip flight t...   True   \n",
       "\n",
       "  city_from      city_to        date   date_back need_luggage  \\\n",
       "0    Moscow  Novosibirsk  09.20.2022  12.15.2022         True   \n",
       "1    Moscow  Novosibirsk  09.20.2022  12.15.2022         True   \n",
       "2    Moscow  Novosibirsk  09.20.2022  12.15.2022          NaN   \n",
       "3    Moscow  Novosibirsk  09.20.2022  12.15.2022          NaN   \n",
       "4    Moscow  Novosibirsk  09.20.2022         NaN         True   \n",
       "\n",
       "                                              answer  is_fc_answer  parsed_fc  \\\n",
       "0  {\"name\": \"get_flight_info\", \"description\": \"Ge...          True       True   \n",
       "1  {\"name\": \"get_flight_info\", \"arguments\": '{\"_f...          True       True   \n",
       "2  I'm sorry if my previous response caused any c...         False      False   \n",
       "3  {\"name\": \"get_flight_info\", \"arguments\": '{\\n\"...          True       True   \n",
       "4  {\"name\": \"get_flight_info\", \"arguments\": '{\"ci...          True       True   \n",
       "\n",
       "     function_name  parsed_args parsed_city_from parsed_city_to  \\\n",
       "0  get_flight_info        False              NaN            NaN   \n",
       "1  get_flight_info         True              NaN            NaN   \n",
       "2              NaN        False              NaN            NaN   \n",
       "3  get_flight_info         True           Moscow    Novosibirsk   \n",
       "4  get_flight_info         True           Moscow    Novosibirsk   \n",
       "\n",
       "                        parsed_date parsed_date_back parsed_need_luggage  \\\n",
       "0                               NaN              NaN                 NaN   \n",
       "1  {'departure': 20, 'arrival': 31}              NaN                 NaN   \n",
       "2                               NaN              NaN                 NaN   \n",
       "3                         20-Sep-20              NaN                 NaN   \n",
       "4                        09-15-2022              NaN                 NaN   \n",
       "\n",
       "               all_parsed_arguments  \n",
       "0                               NaN  \n",
       "1           ['_from', 'to', 'date']  \n",
       "2                               NaN  \n",
       "3  ['city_from', 'city_to', 'date']  \n",
       "4  ['city_from', 'city_to', 'date']  "
      ]
     },
     "execution_count": 3,
     "metadata": {},
     "output_type": "execute_result"
    }
   ],
   "source": [
    "results_df.head()"
   ]
  },
  {
   "cell_type": "markdown",
   "metadata": {},
   "source": [
    "## Function call prediction"
   ]
  },
  {
   "cell_type": "code",
   "execution_count": 4,
   "metadata": {},
   "outputs": [
    {
     "data": {
      "text/plain": [
       "0.9393939393939394"
      ]
     },
     "execution_count": 4,
     "metadata": {},
     "output_type": "execute_result"
    }
   ],
   "source": [
    "# accuracy обнаружение function call\n",
    "sum(results_df[\"is_fc\"] == results_df[\"is_fc_answer\"]) / len(results_df)"
   ]
  },
  {
   "cell_type": "code",
   "execution_count": 5,
   "metadata": {},
   "outputs": [
    {
     "name": "stdout",
     "output_type": "stream",
     "text": [
      "118\n"
     ]
    },
    {
     "data": {
      "text/plain": [
       "0.9067796610169492"
      ]
     },
     "execution_count": 5,
     "metadata": {},
     "output_type": "execute_result"
    }
   ],
   "source": [
    "# recall обнаружение function call\n",
    "real_fc = results_df[\"is_fc\"] == True\n",
    "fc_total = sum(real_fc)\n",
    "print(fc_total)\n",
    "\n",
    "# выбираем из реально fc те, что модель предсказала как fc\n",
    "sum(results_df[real_fc][\"is_fc_answer\"] == True) / fc_total"
   ]
  },
  {
   "cell_type": "code",
   "execution_count": 6,
   "metadata": {},
   "outputs": [
    {
     "name": "stdout",
     "output_type": "stream",
     "text": [
      "110\n"
     ]
    },
    {
     "data": {
      "text/plain": [
       "0.9727272727272728"
      ]
     },
     "execution_count": 6,
     "metadata": {},
     "output_type": "execute_result"
    }
   ],
   "source": [
    "# precision обнаружение function call\n",
    "pred_fc = results_df[\"is_fc_answer\"] == True\n",
    "fc_preds_total = sum(pred_fc)\n",
    "print(fc_preds_total)\n",
    "\n",
    "# # выбираем из тех, что модель предсказала как fc, реальные fc\n",
    "sum(results_df[pred_fc][\"is_fc\"] == True) / fc_preds_total"
   ]
  },
  {
   "cell_type": "markdown",
   "metadata": {},
   "source": [
    "## Parsing json"
   ]
  },
  {
   "cell_type": "code",
   "execution_count": 7,
   "metadata": {},
   "outputs": [
    {
     "name": "stdout",
     "output_type": "stream",
     "text": [
      "100 0.9090909090909091\n"
     ]
    }
   ],
   "source": [
    "# сколько получилось распарсить json из тех, что определили как fc\n",
    "p = sum(results_df[pred_fc][\"parsed_fc\"])\n",
    "print(p, p / fc_preds_total)"
   ]
  },
  {
   "cell_type": "code",
   "execution_count": 8,
   "metadata": {},
   "outputs": [
    {
     "name": "stdout",
     "output_type": "stream",
     "text": [
      "96 0.8727272727272727\n"
     ]
    }
   ],
   "source": [
    "# сколько получилось распарсить json  и аргументы json из тех, что определили как fc\n",
    "p = sum(results_df[pred_fc][\"parsed_args\"])\n",
    "print(p, p / fc_preds_total)"
   ]
  },
  {
   "cell_type": "markdown",
   "metadata": {},
   "source": [
    "## Identifying arguments\n",
    "\n",
    "Теперь посмотрим на самое главное - на то, как модель справляется с определением аргументов\n",
    "\n",
    "Выберем true function calls - и по каждому из аргументов сравним, как получилось достать из данных нужную информацию\n",
    "\n"
   ]
  },
  {
   "cell_type": "code",
   "execution_count": 9,
   "metadata": {},
   "outputs": [
    {
     "data": {
      "text/plain": [
       "0             Moscow\n",
       "1             Moscow\n",
       "2             Moscow\n",
       "3             Moscow\n",
       "4             Moscow\n",
       "           ...      \n",
       "113    Yekaterinburg\n",
       "114    Yekaterinburg\n",
       "115    Yekaterinburg\n",
       "116    Yekaterinburg\n",
       "117    Yekaterinburg\n",
       "Name: city_from, Length: 118, dtype: object"
      ]
     },
     "execution_count": 9,
     "metadata": {},
     "output_type": "execute_result"
    }
   ],
   "source": [
    "results_df[real_fc][\"city_from\"]"
   ]
  },
  {
   "cell_type": "code",
   "execution_count": 10,
   "metadata": {},
   "outputs": [
    {
     "data": {
      "text/plain": [
       "0.7181818181818181"
      ]
     },
     "execution_count": 10,
     "metadata": {},
     "output_type": "execute_result"
    }
   ],
   "source": [
    "# accuracy идентицикации city_from\n",
    "sum(\n",
    "    results_df[real_fc][\"city_from\"] == results_df[real_fc][\"parsed_city_from\"]\n",
    ") / fc_preds_total"
   ]
  },
  {
   "cell_type": "code",
   "execution_count": 11,
   "metadata": {},
   "outputs": [
    {
     "data": {
      "text/plain": [
       "0.45454545454545453"
      ]
     },
     "execution_count": 11,
     "metadata": {},
     "output_type": "execute_result"
    }
   ],
   "source": [
    "# accuracy идентицикации city_to\n",
    "sum(\n",
    "    results_df[real_fc][\"city_to\"] == results_df[real_fc][\"parsed_city_to\"]\n",
    ") / fc_preds_total"
   ]
  },
  {
   "cell_type": "code",
   "execution_count": 12,
   "metadata": {},
   "outputs": [
    {
     "data": {
      "text/plain": [
       "0.05454545454545454"
      ]
     },
     "execution_count": 12,
     "metadata": {},
     "output_type": "execute_result"
    }
   ],
   "source": [
    "# accuracy идентицикации need_luggage\n",
    "sum(\n",
    "    results_df[real_fc][\"need_luggage\"] == results_df[real_fc][\"parsed_need_luggage\"]\n",
    ") / fc_preds_total"
   ]
  },
  {
   "cell_type": "code",
   "execution_count": 13,
   "metadata": {},
   "outputs": [
    {
     "data": {
      "text/plain": [
       "(7, 38)"
      ]
     },
     "execution_count": 13,
     "metadata": {},
     "output_type": "execute_result"
    }
   ],
   "source": [
    "sum(~results_df[real_fc][\"parsed_need_luggage\"].isna()), sum(\n",
    "    ~results_df[real_fc][\"need_luggage\"].isna()\n",
    ")"
   ]
  },
  {
   "cell_type": "markdown",
   "metadata": {},
   "source": [
    "С датами немного поработаем - они изначально в разных форматах\n",
    "\n",
    "В тестовых данных они в формате %m.%d.%Y, а модель должна была выдавать (формат указан в system prompt) в формате MM-DD-YYYY"
   ]
  },
  {
   "cell_type": "code",
   "execution_count": 14,
   "metadata": {},
   "outputs": [],
   "source": [
    "from datetime import datetime\n",
    "\n",
    "\n",
    "def format_model_date(text: str | None):\n",
    "    if text is None:\n",
    "        return None\n",
    "    for format in (\"%m-%d-%Y\", \"%m/%d/%Y\", \"%m.%d.%Y\"):\n",
    "        try:\n",
    "            return datetime.strptime(text, format)\n",
    "        except ValueError:\n",
    "            pass\n",
    "    return None\n",
    "\n",
    "\n",
    "def format_test_date(text: str | None):\n",
    "    if text is None:\n",
    "        return None\n",
    "    return datetime.strptime(text, \"%m.%d.%Y\")"
   ]
  },
  {
   "cell_type": "markdown",
   "metadata": {},
   "source": [
    "### Arrival date"
   ]
  },
  {
   "cell_type": "code",
   "execution_count": 15,
   "metadata": {},
   "outputs": [
    {
     "name": "stdout",
     "output_type": "stream",
     "text": [
      "96\n",
      "76\n",
      "39\n",
      "21\n"
     ]
    }
   ],
   "source": [
    "real_dates = results_df[real_fc][\"date\"].apply(\n",
    "    lambda x: format_test_date(str(x)) if not pd.isna(x) else None\n",
    ")\n",
    "pred_dates = results_df[real_fc][\"parsed_date\"].apply(\n",
    "    lambda x: format_model_date(str(x)) if not pd.isna(x) else None\n",
    ")\n",
    "\n",
    "# Дат в оригинале\n",
    "print(sum(~real_dates.isna()))\n",
    "# Всего изначально модели удалось спарсить даты\n",
    "print(sum(~results_df[real_fc][\"parsed_date\"].isna()))\n",
    "# И сколько получилось распарсить строги форматом \"%m-%d-%Y\"\n",
    "print(sum(~pred_dates.isna()))\n",
    "# Из них совпали\n",
    "print(sum(pred_dates == real_dates))"
   ]
  },
  {
   "cell_type": "code",
   "execution_count": 16,
   "metadata": {},
   "outputs": [
    {
     "data": {
      "text/plain": [
       "parsed_date\n",
       "11-28-2021                          8\n",
       "12-04-2020                          6\n",
       "09-15-2021                          4\n",
       "11-17-2022                          3\n",
       "09-20-2022                          3\n",
       "09/15/2021                          2\n",
       "09-20                               2\n",
       "17-11-2022                          2\n",
       "12-30                               2\n",
       "12/04/2020                          2\n",
       "2021-11-28                          2\n",
       "09-15-2022                          2\n",
       "20-Sep-20                           1\n",
       "{'departure': 20, 'arrival': 31}    1\n",
       "09-20-22                            1\n",
       "20-09-2022                          1\n",
       "09-17-2022                          1\n",
       "20-Sep-2022                         1\n",
       "11-15-22                            1\n",
       "11/07/2023                          1\n",
       "11/0723                             1\n",
       "11/20                               1\n",
       "11-23                               1\n",
       "11/06                               1\n",
       "10-25-2023                          1\n",
       "10-09-20                            1\n",
       "2022-09                             1\n",
       "11/17/2022                          1\n",
       "11-28                               1\n",
       "11-27-2021                          1\n",
       "28-11                               1\n",
       "11-15-20                            1\n",
       "12/03/2022                          1\n",
       "11/17                               1\n",
       "September-15, 2021                  1\n",
       "02-14-2023                          1\n",
       "20-12-2023                          1\n",
       "20-10-2023                          1\n",
       "9-Sep-2021                          1\n",
       "9-15-20                             1\n",
       "9/5                                 1\n",
       "09/15/21                            1\n",
       "03-15-2022                          1\n",
       "9/5, 2018                           1\n",
       "2021-9-5                            1\n",
       "12-30-2020                          1\n",
       "12-30-20                            1\n",
       "12/04                               1\n",
       "12/4                                1\n",
       "@december                           1\n",
       "Name: count, dtype: int64"
      ]
     },
     "execution_count": 16,
     "metadata": {},
     "output_type": "execute_result"
    }
   ],
   "source": [
    "results_df[real_fc][\"parsed_date\"].value_counts()"
   ]
  },
  {
   "cell_type": "markdown",
   "metadata": {},
   "source": [
    "### Departure date"
   ]
  },
  {
   "cell_type": "code",
   "execution_count": 17,
   "metadata": {},
   "outputs": [
    {
     "name": "stdout",
     "output_type": "stream",
     "text": [
      "38\n",
      "4\n",
      "3\n",
      "3\n"
     ]
    }
   ],
   "source": [
    "real_dates = results_df[real_fc][\"date_back\"].apply(\n",
    "    lambda x: format_test_date(str(x)) if not pd.isna(x) else None\n",
    ")\n",
    "pred_dates = results_df[real_fc][\"parsed_date_back\"].apply(\n",
    "    lambda x: format_model_date(str(x)) if not pd.isna(x) else None\n",
    ")\n",
    "# Дат в оригинале\n",
    "print(sum(~real_dates.isna()))\n",
    "# Всего изначально модели удалось спарсить даты\n",
    "print(sum(~results_df[real_fc][\"parsed_date_back\"].isna()))\n",
    "# И сколько получилось распарсить строги форматом \"%m-%d-%Y\"\n",
    "print(sum(~pred_dates.isna()))\n",
    "# Из них совпали\n",
    "print(sum(pred_dates == real_dates))"
   ]
  },
  {
   "cell_type": "code",
   "execution_count": 18,
   "metadata": {},
   "outputs": [
    {
     "data": {
      "text/html": [
       "<div>\n",
       "<style scoped>\n",
       "    .dataframe tbody tr th:only-of-type {\n",
       "        vertical-align: middle;\n",
       "    }\n",
       "\n",
       "    .dataframe tbody tr th {\n",
       "        vertical-align: top;\n",
       "    }\n",
       "\n",
       "    .dataframe thead th {\n",
       "        text-align: right;\n",
       "    }\n",
       "</style>\n",
       "<table border=\"1\" class=\"dataframe\">\n",
       "  <thead>\n",
       "    <tr style=\"text-align: right;\">\n",
       "      <th></th>\n",
       "      <th>Unnamed: 0</th>\n",
       "      <th>question</th>\n",
       "      <th>is_fc</th>\n",
       "      <th>city_from</th>\n",
       "      <th>city_to</th>\n",
       "      <th>date</th>\n",
       "      <th>date_back</th>\n",
       "      <th>need_luggage</th>\n",
       "      <th>answer</th>\n",
       "      <th>is_fc_answer</th>\n",
       "      <th>parsed_fc</th>\n",
       "      <th>function_name</th>\n",
       "      <th>parsed_args</th>\n",
       "      <th>parsed_city_from</th>\n",
       "      <th>parsed_city_to</th>\n",
       "      <th>parsed_date</th>\n",
       "      <th>parsed_date_back</th>\n",
       "      <th>parsed_need_luggage</th>\n",
       "      <th>all_parsed_arguments</th>\n",
       "    </tr>\n",
       "  </thead>\n",
       "  <tbody>\n",
       "    <tr>\n",
       "      <th>12</th>\n",
       "      <td>12</td>\n",
       "      <td>I would like to purchase round-trip plane tick...</td>\n",
       "      <td>True</td>\n",
       "      <td>Moscow</td>\n",
       "      <td>Novosibirsk</td>\n",
       "      <td>09.20.2022</td>\n",
       "      <td>12.15.2022</td>\n",
       "      <td>False</td>\n",
       "      <td>{\"name\": \"get_flight_info\", \"arguments\": '{\\n ...</td>\n",
       "      <td>True</td>\n",
       "      <td>True</td>\n",
       "      <td>get_flight_info</td>\n",
       "      <td>True</td>\n",
       "      <td>Moscow</td>\n",
       "      <td>Novosibirsk</td>\n",
       "      <td>09-20-2022</td>\n",
       "      <td>12-15-2022</td>\n",
       "      <td>False</td>\n",
       "      <td>['city_from', 'city_to', 'date', 'date_back', ...</td>\n",
       "    </tr>\n",
       "    <tr>\n",
       "      <th>50</th>\n",
       "      <td>50</td>\n",
       "      <td>I would like to purchase a round trip airfare ...</td>\n",
       "      <td>True</td>\n",
       "      <td>Novosibirsk</td>\n",
       "      <td>Moscow</td>\n",
       "      <td>11.28.2021</td>\n",
       "      <td>03.01.2023</td>\n",
       "      <td>True</td>\n",
       "      <td>{\"name\": \"get_flight_info\", \"arguments\": '{\"ci...</td>\n",
       "      <td>True</td>\n",
       "      <td>True</td>\n",
       "      <td>get_flight_info</td>\n",
       "      <td>True</td>\n",
       "      <td>Novosibirsk</td>\n",
       "      <td>Moscow</td>\n",
       "      <td>11-28-2021</td>\n",
       "      <td>“3-5”</td>\n",
       "      <td>True</td>\n",
       "      <td>['city_from', 'city_to', 'date', 'date_back', ...</td>\n",
       "    </tr>\n",
       "    <tr>\n",
       "      <th>63</th>\n",
       "      <td>63</td>\n",
       "      <td>I would like to purchase a flight ticket from ...</td>\n",
       "      <td>True</td>\n",
       "      <td>Novosibirsk</td>\n",
       "      <td>Moscow</td>\n",
       "      <td>11.28.2021</td>\n",
       "      <td>03.01.2023</td>\n",
       "      <td>False</td>\n",
       "      <td>{\"name\": \"get_flight_info\", \"arguments\": '{\"ci...</td>\n",
       "      <td>True</td>\n",
       "      <td>True</td>\n",
       "      <td>get_flight_info</td>\n",
       "      <td>True</td>\n",
       "      <td>Novosibirsk</td>\n",
       "      <td>Moscow</td>\n",
       "      <td>11-28-2021</td>\n",
       "      <td>3-1-2023</td>\n",
       "      <td>False</td>\n",
       "      <td>['city_from', 'city_to', 'date', 'date_back', ...</td>\n",
       "    </tr>\n",
       "    <tr>\n",
       "      <th>83</th>\n",
       "      <td>83</td>\n",
       "      <td>I would like to purchase a flight ticket from ...</td>\n",
       "      <td>True</td>\n",
       "      <td>Yekaterinburg</td>\n",
       "      <td>Saint-Petersburg</td>\n",
       "      <td>09.15.2021</td>\n",
       "      <td>11.05.2022</td>\n",
       "      <td>False</td>\n",
       "      <td>{\"name\": \"get_flight_info\", \"arguments\": '{\\n ...</td>\n",
       "      <td>True</td>\n",
       "      <td>True</td>\n",
       "      <td>get_flight_info</td>\n",
       "      <td>True</td>\n",
       "      <td>Yekaterinburg</td>\n",
       "      <td>Saint-Petersburg</td>\n",
       "      <td>09-15-2021</td>\n",
       "      <td>11-05-2022</td>\n",
       "      <td>NaN</td>\n",
       "      <td>['city_from', 'city_to', 'date', 'date_back']</td>\n",
       "    </tr>\n",
       "  </tbody>\n",
       "</table>\n",
       "</div>"
      ],
      "text/plain": [
       "    Unnamed: 0                                           question  is_fc  \\\n",
       "12          12  I would like to purchase round-trip plane tick...   True   \n",
       "50          50  I would like to purchase a round trip airfare ...   True   \n",
       "63          63  I would like to purchase a flight ticket from ...   True   \n",
       "83          83  I would like to purchase a flight ticket from ...   True   \n",
       "\n",
       "        city_from           city_to        date   date_back need_luggage  \\\n",
       "12         Moscow       Novosibirsk  09.20.2022  12.15.2022        False   \n",
       "50    Novosibirsk            Moscow  11.28.2021  03.01.2023         True   \n",
       "63    Novosibirsk            Moscow  11.28.2021  03.01.2023        False   \n",
       "83  Yekaterinburg  Saint-Petersburg  09.15.2021  11.05.2022        False   \n",
       "\n",
       "                                               answer  is_fc_answer  \\\n",
       "12  {\"name\": \"get_flight_info\", \"arguments\": '{\\n ...          True   \n",
       "50  {\"name\": \"get_flight_info\", \"arguments\": '{\"ci...          True   \n",
       "63  {\"name\": \"get_flight_info\", \"arguments\": '{\"ci...          True   \n",
       "83  {\"name\": \"get_flight_info\", \"arguments\": '{\\n ...          True   \n",
       "\n",
       "    parsed_fc    function_name  parsed_args parsed_city_from  \\\n",
       "12       True  get_flight_info         True           Moscow   \n",
       "50       True  get_flight_info         True      Novosibirsk   \n",
       "63       True  get_flight_info         True      Novosibirsk   \n",
       "83       True  get_flight_info         True    Yekaterinburg   \n",
       "\n",
       "      parsed_city_to parsed_date parsed_date_back parsed_need_luggage  \\\n",
       "12       Novosibirsk  09-20-2022       12-15-2022               False   \n",
       "50            Moscow  11-28-2021            “3-5”                True   \n",
       "63            Moscow  11-28-2021         3-1-2023               False   \n",
       "83  Saint-Petersburg  09-15-2021       11-05-2022                 NaN   \n",
       "\n",
       "                                 all_parsed_arguments  \n",
       "12  ['city_from', 'city_to', 'date', 'date_back', ...  \n",
       "50  ['city_from', 'city_to', 'date', 'date_back', ...  \n",
       "63  ['city_from', 'city_to', 'date', 'date_back', ...  \n",
       "83      ['city_from', 'city_to', 'date', 'date_back']  "
      ]
     },
     "execution_count": 18,
     "metadata": {},
     "output_type": "execute_result"
    }
   ],
   "source": [
    "results_df[real_fc][~results_df[real_fc][\"parsed_date_back\"].isna()]"
   ]
  },
  {
   "cell_type": "code",
   "execution_count": null,
   "metadata": {},
   "outputs": [],
   "source": []
  }
 ],
 "metadata": {
  "kernelspec": {
   "display_name": "llm_finetuning-2kOCaLmK-py3.11",
   "language": "python",
   "name": "python3"
  },
  "language_info": {
   "codemirror_mode": {
    "name": "ipython",
    "version": 3
   },
   "file_extension": ".py",
   "mimetype": "text/x-python",
   "name": "python",
   "nbconvert_exporter": "python",
   "pygments_lexer": "ipython3",
   "version": "3.11.4"
  }
 },
 "nbformat": 4,
 "nbformat_minor": 2
}
